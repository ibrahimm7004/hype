{
 "cells": [
  {
   "cell_type": "code",
   "execution_count": 1,
   "id": "95158703",
   "metadata": {},
   "outputs": [],
   "source": [
    "from scraper import news_dict, events_dict"
   ]
  },
  {
   "cell_type": "code",
   "execution_count": 2,
   "id": "60d48052",
   "metadata": {},
   "outputs": [
    {
     "name": "stdout",
     "output_type": "stream",
     "text": [
      "News: {0: 'We had the privilege of hosting an inspiring mentorship session withMr. Raza Jafar, renowned entrepreneur and philanthropist, onApril 10, 2025, at theSeminar Hall, School of Management Sciences (SMGS), GIKI.\\n💡 Mr. Jafar shared his journey of entrepreneurship, global impact, and social responsibility, offering a powerful message onleadership, purpose-driven innovation, and giving back to society. His insights resonated deeply with students, faculty, and aspiring changemakers in the audience.\\n✨ Key Highlights:\\nThe importance of values in business and leadership\\nReal-world lessons from global ventures and philanthropic initiatives\\nEncouragement for youth to think boldly and act with compassion\\nA dynamic Q&A session that sparked meaningful reflection and motivation\\n🙌 We extend our heartfelt thanks to Mr. Raza Jafar for his valuable time and inspiring words—and to all attendees who made the session truly memorable.', 1: 'We were honored to host an insightful seminar featuringMs. Srividya Subramanian (Vidya) Vidyasagar, Global Head for Cloud and Production Engineering—Retail Banking, Standard Chartered Singapore, onWednesday, April 9, 2025, at theMain Lecture Hall, Brabers Building, SMGS, GIKI.\\n🧠 Ms. Vidyasagar shared her deep expertise and valuable perspectives on the evolving role ofAI and cloud technologiesin thetech and finance sectors. Drawing from her rich experience atJPMorgan Chase & Co.andStandard Chartered Bank, she offered thought-provoking insights into how AI is transforming global banking systems and what trends are shaping the future of AI engineering.\\n✨ Key Takeaways:\\nThe growing integration of AI in cloud infrastructure and financial services\\nEmerging trends in AI-driven innovation across industries\\nCareer advice for aspiring AI professionals and tech leaders\\nReal-world applications of AI in enterprise banking environments\\n🎓 The session attracted enthusiastic participation from students and faculty alike, sparking meaningful dialogue and inspiration for future innovation.\\nA big thank you to Ms. Vidyasagar for joining us and to everyone who made the event a success!', 2: 'The 3rd International Conference on Emerging Power Technologies (ICEPT 2025) was successfully held on April 10–11, 2025. The event brought together researchers, academics, and industry experts to discuss recent advancements and future directions in power technologies.\\nKey Themes Covered:\\nRenewable and Sustainable Energy\\nSmart Grids and Energy Storage\\nPower Electronics and Systems\\nEmerging Trends in Power Generation\\nGreen and Clean Energy Solutions\\nWe thank all participants, speakers, and organizers for making the conference a great success. Stay tuned for updates on future editions of ICEPT.', 3: 'The Supreme Court of Pakistan (SCP) has signed MoUs with Lahore University of Management Sciences (LUMS) and Ghulam Ishaq Khan Institute of Engineering Sciences and Technology (GIKI) to enhance judicial efficiency, transparency, and technological advancement. The MoUs were formally signed by Mr. Muhammad Salim Khan, Registrar, Supreme Court of Pakistan, on behalf of SCP, Professor Dr. Tariq Jadoon on behalf of LUMS, and Professor Dr. Muhammad Hanif on behalf of GIKI in thepresence of Hon’ble Chief Justice of Pakistan Mr Justice Yahya Afridi at Supreme Court of Pakistan Islamabad, today on 10.03.2025.\\nThis collaboration aims to develop a litigant-feedback scorecard to assess public satisfaction with court services and improve transparency. It also focuses on enhancing citizen engagement by adopting modern communication tools, ensuring greater accessibility for litigants and the general public. The MoUs further strengthen IT capacity within SCP through specialized training programs in collaboration with the Federal Judicial Academy, covering key areas such as Agile methodology, cybersecurity, data analytics, and emerging technologies. A comprehensive assessment will identify existing skill gaps, and targeted training programs will equip SCP’s IT team to handle new technologies and infrastructure effectively.\\nSpeaking on the occasion, the Chief Justice emphasized the significance of this collaboration in modernizing the judicial system. He stated, “This partnership with LUMS and GIKI marks a pivotal step toward integrating technology-driven solutions for an efficient, transparent, and people-centric judiciary.” Professor Dr. Tariq Jadoon and Professor Dr. Mohammad Hanif reaffirmed their commitment to supporting SCP in this transformative journey, highlighting the importance of academic collaboration in advancing judicial processes and governance.\\nThe MoUs will remain in effect until 2027, with the possibility of extension based on mutual agreement. This partnership is expected to set a new benchmark for technology-driven judicial reforms in Pakistan, paving the way for a more accessible and efficient justice system.', 4: 'The Google Developers Group on Campus, GIKI, in collaboration with Bave Technologies and The Catalyst GIK Incubator, successfully hosted a three-day event exploring the frontiers of artificial intelligence and quantum computing. The Chief Guest, Prof. Dr. S. M. Hasan Zaidi, Acting Rector, applauded AI QUANTUM LEAP for fostering the AI-quantum revolution and empowering future innovators and distributed certificates to winners.\\nFeaturing expert-led live sessions, interactivediscussions, and hands-on case study competitions, the event provided students with a unique opportunity to learn, network, and compete in cutting-edge technological domains.\\nParticipants took on exciting challenges through QUANTUMANIA, a quantum-focused case study competition, and the AI INNOVATION JAM, an AI-driven problem-solving challenge. The event fostered innovation, critical thinking, and collaboration among students, promoting knowledge-sharing and strengthening community engagement within the institute.', 5: 'GIKI Celebrates Women’s Day with Enthusiasm and Appreciation\\nGhulam Ishaq Khan Institute (GIKI) proudly celebratedInternational Women’s Day, recognizing the invaluable contributions, resilience, and achievements of women in every sphere of life. The event aimed to honor thestrength, dedication, and limitless potential of womenin academia, technology, and beyond.\\nDistinguished faculty members, students, and staff gathered to reflect on the importance of gender equality and empowerment. The occasion highlighted the institute’s commitment to fostering an inclusive environment where women can thrive and excel.\\nGIKI remains steadfast in its mission tosupport, inspire, and uplift women, ensuring they continue to make a significant impact in society.', 6: 'The final day ofthe GIKI Emerging Tech & Freelance Innovation Summit 2025 wrapped up with an inspiring Closing Ceremony, marking the end of three days of innovation, learning, and collaboration!\\n𝗗𝗮𝘆 𝟯 𝗛𝗶𝗴𝗵𝗹𝗶𝗴𝗵𝘁𝘀:\\n𝘉𝘭𝘰𝘤𝘬𝘤𝘩𝘢𝘪𝘯 𝘏𝘢𝘯𝘥𝘴-𝘰𝘯 𝘚𝘦𝘴𝘴𝘪on: Participants explored real-world applications of blockchain through an interactive session.\\n𝘐𝘯𝘥𝘶𝘴𝘵𝘳𝘪𝘢𝘭 𝘛𝘢𝘭𝘬 𝘣𝘺 𝘔𝘳. 𝘈𝘮𝘮𝘢𝘳 𝘑𝘢𝘮𝘴𝘩𝘦𝘥: An insightful discussion on Education Analytics in the Freelance Era, shedding light on data-driven opportunities in freelancing.\\n𝘊𝘭𝘰𝘴𝘪𝘯𝘨 𝘊𝘦𝘳𝘦𝘮𝘰𝘯𝘺: A moment to celebrate achievements, recognize speakers, and appreciate the dedication of our participants and organizing team.\\nA special thanks to our Chief Guest, Dr. Arbab Abdur Raheem (Dean FEE, GIKI), for gracing the occasion with his presence and valuable insights.\\nWe also extend our gratitude to 𝗗𝗿. 𝗨𝘀𝗮𝗺𝗮 𝗔𝗿𝘀𝗵𝗮𝗱 (𝗙𝗔𝗦𝗧) and 𝗗𝗿. 𝗦𝗮𝗹𝗺𝗮𝗻 𝗔𝗵𝗺𝗲𝗱 (𝗛𝗼𝗗 𝗔𝗜 & 𝗖𝗦, 𝗚𝗜𝗞𝗜) for their invaluable contributions and support throughout the summit.\\nA heartfelt appreciation to the incredible GSS Team for their continuous efforts and dedication in making this event a grand success:\\nEngr.Muhammad Ahmad (President GSS)\\nEngr.Saad Rustum(General Secretary GSS)\\nMr.Ali Hammad(Event Coordinator GSS)\\nEngr.Qazi Khurshid(Liaison Head GSS)\\nYour hard work and commitment have truly made this summit an unforgettable experience!\\nA heartfelt thank you to all speakers, trainers, participants, and organizers for making this summit a huge success! Your enthusiasm for technology and innovation is what drives the future forward.\\nUntil next time, keep innovating and pushing boundaries!', 7: 'For the fourth consecutive year, GIK Institute of Engineering Sciences and Technology, in collaboration with ICPC Asia Topi, proudly hosted the prestigious ICPC Asia West Continent Finals 2024 (AWC 2024). The International Collegiate Programming Contest (ICPC), often celebrated as the “World Cup of Computing,” continues to inspire and challenge the brightest minds from universities worldwide. With participation from over 3,322 universities across 111 countries and six continents, ICPC remains the gold standard for algorithmic programming competitions.\\nThis year’s contest was a remarkable multi-site event held simultaneously at four sites: Topi (Pakistan), Mathura (India), Dhaka (Bangladesh), and Tehran (Iran). A total of 65 elite teams from India, Afghanistan, Iran, Pakistan, and Bangladesh advanced to the finals, selected through their stellar performance at regional contests. The allocation of team slots per site was strategically based on the volume of participation in both online and on-site contests—demonstrating the competition’s inclusivity and merit-based approach. The following slots have been assigned for team selection at each regional site:\\nTable 1. List of Selected Teams for the ICPC Asia West Continent Finals 2024\\nWhile the ICPC Asia Topi Regional site was set to host seven teams—four from Pakistan and three from Afghanistan—unfortunately, visa delays prevented the Afghan teams from participating. Nonetheless, the contest maintained its momentum and spirit.\\nOn March 7th and 8th, 2025, the event unfolded over two days, starting with a mock round and culminating in a high-stakes 5-hour final contest. Sixty-two teams from Pakistan, India, Iran, and Bangladesh competed fiercely. Pakistan’s representation included renowned institutions such as\\nFAST-NUCES Karachi, Punjab University College of Information Technology (PUCIT) Lahore, NUST Islamabad, and Habib University Karachi.\\nDemonstrating resilience and potential, Pakistan’s teams showcased a promising performance. Habib University secured the 50thposition solving three problems, closely followed by NUST Islamabad at 54th, solving two complex problems. PUCIT and FAST-NUCES Karachi also delivered commendable performances, each solving one problem. The competition was intense, with teams vying against well-established programming giants from India, Iran, and Bangladesh. The ICPC Asia Topi Regional site remains committed to advancing up the leaderboard and building a legacy of excellence.\\nWe extend our warmest congratulations to the top achievers: Sharif University of Technology (Iran), IIT Delhi (India), and IIT Kanpur (India), for clinching the first, second, and third positions, respectively. Their performances were a testament to exceptional coding skill, strategy, and perseverance. The closing ceremony of the event was held online through a Zoom session connecting all four regional sites: Topi, Dhaka, Mathura, and Tehran. During the ceremony, gold medals were awarded to the winners of the respective sites. From the ICPC Asia Topi site, Habib University, Karachi, emerged as the champion, securing the gold medals.\\nThe success of AWC 2024 was a collective achievement. Heartfelt gratitude to the core organizing team—Dr. Masroor Hussain, Ms. Sarah Sajjad and Mr. Usman Haider—alongside the dedicated lab assistants, whose behind-the-scenes efforts were invaluable. Special thanks to Dr. S. M. Hassan Zaidi (Rector, GIK Institute), Prof. Dr. Qadeer-ul-Hasan (Pro-Rector, Academics & Dean FCSE), Sardar Aminullah Khan (Pro-Rector, Administration & Finance), and the Director of IT, whose steadfast support was instrumental.\\nWe also acknowledge the Islamabad ACM Chapter for their continuous support. Being a part of this international contest was also not possible without the support of sponsorsPakistan Software Export Board, Geniteam, ArkhitechandForbmax. As we look to the future, our resolve to nurture programming talent and ignite a passion for coding remains stronger than ever. Together, we are shaping the innovators and leaders of tomorrow’s tech-driven world!\\nThrough the Lens: Highlights of the 2024 ICPC Asia West Continent Finals\\nLab view of teams participating from GIK Institute, ICPC Asia Topi Regional Site\\nHighlights from the Bangladesh Regional Site, Dhaka\\nHighlights from the Indian Regional Site, Mathura\\nHighlights from the Iran Regional Site, Tehran\\nTeam Code Paladins — Winner of the Asia Topi Regional Site, Habib University Karachi\\nScoreboard View: Top 10 teams of the Contest\\nRanking of teams from Pakistan', 8: 'The “Generative AI for Executives” training program at Ghulam Ishaq Khan Institute of Engineering Sciences and Technology successfully concluded, bringing together top industry leaders, CEOs, entrepreneurs, and academicians from across Pakistan.\\nDr. Muhammad Zubair Khan, an eminent PhD from The Johns Hopkins University and a GIKI Board of Governors member, graced the occasion as the Chief Guest. Dr. Zubair greatly appreciated the timely conduct of this Hi-Tech course by andparticularly admired Acting Rector Prof Dr S. M. Hasan Zaidi’s efforts in attracting renowned industry leaders such as Salim Ghauri of NETSOL Technologies Pakistan), Imran Zahid (COOCapital Smart City), and Muhammad Ismail (CEO@snskies_consultation). He emphasized the transformative role of AI and the importance of equipping business leaders with the knowledge to navigate this evolving landscape.\\nExecutives praised the course’s structure and quality. Mr. Salim Ghauri particularly commends GIKI’s commitment to bridging academia and industry.\\nMr. Salim Ghauri, CEO of one of the top Software Company in Pakistan remarked, “The structure of the program and the execution was outstanding”. Executives were deeply impressed by GIKI’s state-of-the-art research facilities, especially its advanced Artificial Intelligence, Data Science, and Cybersecurity Labs, which are at the forefront of technological innovation, empowering students and professionals with future-ready expertise.\\nBeyond formal sessions, participants explored GIKI’s scenic hills through hiking, trekking, and Hazard Golf, creating a unique environment for informal discussions and idea exchange. The program concluded with a closing ceremony, certificate distribution, and hi-tea, reaffirming GIKI’s role as a hub for cutting-edge executive education.\\nNETSOL Technologies Limited| @edsavvysolutions |Lahore Garrison University|Modernage Public School & College, Abbottabad.', 9: 'The Ghulam Ishaq Khan Institute of Engineering Sciences and Technology (GIKI) successfully hosted its annual Career Fair 2025 on Wednesday, February 26th, 2025. The event brought together industry leaders and top recruiters to engage with students.\\nMr. Zaurayze Tariq, Managing Director Schlumberger, attended as the chief guest and inaugurated the event. 130 multinational and national companiesparticipated in the fair, which provided students with a unique opportunity to interact with potential employers and explore career prospects.\\nProfessor Dr. Syed Mohammad Hasan Zaidi, President’s Pride of Performance, Acting Rector, GIK Institute, along with pro-rectors, deans, and heads of departments, attended the event, underscoring the institute’s commitment to industry-academia collaboration.\\nThe event served as a platform for graduating students from various disciplines of engineering and management sciences to connect with recruiters, participate in interviews, and gain insights into industry trends.\\nDuring his visit, Mr. Tariq (MD Schlumberger) engaged with students and faculty members, discussing advancements in the energy and technology sectors. He also toured the modern laboratories, including Data Science, Cyber Security, Artificial Intelligence, and Mechanical and material Engineering Laboratories, appreciating the institute’s focus on practical learning and innovation.\\nSpeaking on the occasion, Professor Dr. Zaidi (Acting Rector GIKI) emphasized that the career fair plays a crucial role in strengthening industry ties and enhancing employment opportunities for GIK graduates. He expressed gratitude to corporate partners, sponsors, and recruiters for their support in shaping the careers of young professionals.'}\n"
     ]
    }
   ],
   "source": [
    "print(\"News:\", news_dict)"
   ]
  },
  {
   "cell_type": "code",
   "execution_count": 3,
   "id": "6b6f81db",
   "metadata": {},
   "outputs": [
    {
     "name": "stdout",
     "output_type": "stream",
     "text": [
      "\n",
      "Events: {0: ''}\n"
     ]
    }
   ],
   "source": [
    "print(\"\\nEvents:\", events_dict)"
   ]
  },
  {
   "cell_type": "code",
   "execution_count": 13,
   "id": "ad79a2bb",
   "metadata": {},
   "outputs": [],
   "source": [
    "from openai import OpenAI\n",
    "import json\n",
    "import os\n",
    "from dotenv import load_dotenv\n",
    "import userInput\n",
    "\n",
    "load_dotenv()\n",
    "client = OpenAI(api_key=os.getenv(\"OPENAI_KEY\"))\n",
    "\n",
    "def openai_call():\n",
    "\n",
    "    prompt = \"\"\"\n",
    "    You're a **hilarious marketing mastermind** who writes **viral, hilarious, relavent, and unhinged** tweets for marketing \n",
    "    events/news at the Pakistani university: GIKI. I'll feed you a certain news or event article that's currently happening \n",
    "    at GIKI, and you have to create a funny meme text for that.\n",
    "    Your tweets should sound **effortlessly funny**, **not forced or corporate**.\"\"\"\n",
    "    \"\"\"- **Absolutely NO vulgarity or profanity**.\n",
    "    - Make it **laugh-out-loud funny**—think **sarcasm, irony, relatable humor, and meme energy**.  \n",
    "    - **Punchy, no fluff.** Make it feel like something you'd retweet at 2 AM.  \n",
    "    - **Emojis?** Yes, but like a spice—**just enough, never too much**.  \n",
    "    \"\"\"\n",
    "\n",
    "    lang_prompt = \"\"\"\n",
    "        - Write the meme text using English only. \n",
    "        \"\"\"\n",
    "\n",
    "    if userInput.language:\n",
    "        lang_prompt = f\"\"\"\n",
    "        - Generate the meme text in **{userInput.language}** but using **English alphabets** (Roman script).  \n",
    "        \"\"\"\n",
    "\n",
    "    prompt += lang_prompt\n",
    "\n",
    "    prompt += f\"\"\"\n",
    "    - **The meme must always have two lines of text.**  \n",
    "    - **First line: Sets up the joke.**  \n",
    "    - **Second line: Delivers the punchline.**  \n",
    "\n",
    "    - Ensure the meme is funny for the target audience: Students and Teachers.\n",
    "\n",
    "    Meme Template: **Drakeposting**  \n",
    "\n",
    "    News Article: \"{userInput.keywords_prompt}\"  \n",
    "\n",
    "    **Strict Formatting Rule:**  \n",
    "    Return the meme text as **valid JSON** in this exact format:  \n",
    "    {{\n",
    "        \"meme_text\": [\n",
    "            \"First line of meme\",\n",
    "            \"Second line of meme\"\n",
    "        ]\n",
    "    }}\n",
    "    \"\"\"\n",
    "\n",
    "    response = client.chat.completions.create(\n",
    "        model=\"gpt-4o-mini\",\n",
    "        messages=[{\"role\": \"user\", \"content\": prompt}],\n",
    "        response_format={\"type\": \"json_object\"}\n",
    "    )\n",
    "\n",
    "    try:\n",
    "        meme_text_output = json.loads(\n",
    "            response.choices[0].message.content.strip())\n",
    "        return meme_text_output.get(\"meme_text\", [\"Error: Invalid JSON response\"])\n",
    "    except json.JSONDecodeError:\n",
    "        return [\"Error: Invalid JSON response\"]\n"
   ]
  },
  {
   "cell_type": "code",
   "execution_count": 15,
   "id": "8e4e32f6",
   "metadata": {},
   "outputs": [
    {
     "data": {
      "text/plain": [
       "['Listening to Mr. Jafar like:', 'Can I borrow your brain for my next exam?']"
      ]
     },
     "execution_count": 15,
     "metadata": {},
     "output_type": "execute_result"
    }
   ],
   "source": [
    "openai_call()"
   ]
  },
  {
   "cell_type": "code",
   "execution_count": null,
   "id": "b6912b83",
   "metadata": {},
   "outputs": [],
   "source": []
  }
 ],
 "metadata": {
  "kernelspec": {
   "display_name": "Python 3",
   "language": "python",
   "name": "python3"
  },
  "language_info": {
   "codemirror_mode": {
    "name": "ipython",
    "version": 3
   },
   "file_extension": ".py",
   "mimetype": "text/x-python",
   "name": "python",
   "nbconvert_exporter": "python",
   "pygments_lexer": "ipython3",
   "version": "3.11.0"
  }
 },
 "nbformat": 4,
 "nbformat_minor": 5
}
