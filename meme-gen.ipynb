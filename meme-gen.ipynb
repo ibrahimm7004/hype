{
 "cells": [
  {
   "cell_type": "markdown",
   "metadata": {},
   "source": [
    "# Module 1: Meme Generation"
   ]
  },
  {
   "cell_type": "markdown",
   "metadata": {},
   "source": [
    "- Note: Desired Output: Meme template, Meme text, and caption (optional). Caption is just the text generation that we'll do in simple text generation module."
   ]
  },
  {
   "cell_type": "markdown",
   "metadata": {},
   "source": [
    "### Sub-Modules"
   ]
  },
  {
   "cell_type": "markdown",
   "metadata": {},
   "source": [
    "0. Prerequisite: Need to create a meme templates table which contains 5-6 features that will be our user inputs (loc, audience, industry, etc) and contains 1 keywords col for each template.\n",
    "    - 0.1: Get Meme names from API.\n",
    "    - 0.2: Create prompt-based AI call function to get decided features for every meme template (e.g. Location, Audience, Keywords, etc). \n",
    "    - 0.3: Create dataset for all meme templates and their respective features."
   ]
  },
  {
   "cell_type": "markdown",
   "metadata": {},
   "source": [
    "1. Get input: Free-form and structured (will be getting it from user frontend)."
   ]
  },
  {
   "cell_type": "markdown",
   "metadata": {},
   "source": [
    "2. Prepare input properly: keyword extraction for free-form, no preprocessing needed for structured. "
   ]
  },
  {
   "cell_type": "markdown",
   "metadata": {},
   "source": [
    "3. Perform Template matching by matching each column separately for every meme template (need a simple algo for this). For every meme template in our dataset:\n",
    "    - 3.1: Match structured inputs first, one by one. Simply return boolean TRUE/FALSE -> A utility function needed to match strings (take care of capitalization). Simply return 1/0 for each column.\n",
    "    - 3.2: Match the extracted keywords with keywords col in dataset, return percentage of matched keywords (e.g. 2/5 input-converted-tokeywords match with dataset keywords). Need 1 utility func for this -> returns a numerical value between 0-1 which represents the percentage.\n",
    "    - 3.3: A final scoring func which simply returns the weighted sum of products $(Col1*weight1 + c2*w2 + ...)$\n",
    "    - 3.4: Store this to a score-table (this will be created for every user input query). Sort the table in descending order and return the top 5 templates based on score."
   ]
  },
  {
   "cell_type": "markdown",
   "metadata": {},
   "source": [
    "4. Generate the meme text based on the template by using chat gpt api. One utility func needed to recieve [template name, user input, static prompt (this will be pre-set every generation)], and returns __formatted__ meme text (ensure it returns appropriate format for that meme template, and only returns 1 example)."
   ]
  },
  {
   "cell_type": "markdown",
   "metadata": {},
   "source": [
    "5. Create a func to call meme-creation api ([link](https://rapidapi.com/meme-generator-api-meme-generator-api-default/api/meme-generator)): pass template-name and meme-text, receive created jpeg image (ensure a consistent format- png, jpg, jpeg, etc). Temporarily store while displaying to user, and if approved, store to user's db entry."
   ]
  },
  {
   "cell_type": "markdown",
   "metadata": {},
   "source": [
    "- Note: Steps 4 and 5 will be repeated for all 5 meme templates that were chosen as the highest scoring templates."
   ]
  },
  {
   "cell_type": "markdown",
   "metadata": {},
   "source": [
    "6. Give option for caption creation. Create a utility func using chatgpt and generate caption as well, based on the user input and static prompt (will need another static prompt for this func)."
   ]
  },
  {
   "cell_type": "markdown",
   "metadata": {},
   "source": [
    "---"
   ]
  },
  {
   "cell_type": "markdown",
   "metadata": {},
   "source": [
    "### Sub-Module 0"
   ]
  },
  {
   "cell_type": "markdown",
   "metadata": {},
   "source": [
    "**Step 1:** Getting meme template names from the API that we're using ([Meme-Generator-Rapid-API](https://rapidapi.com/meme-generator-api-meme-generator-api-default/api/meme-generator))"
   ]
  },
  {
   "cell_type": "code",
   "execution_count": 1,
   "metadata": {},
   "outputs": [],
   "source": [
    "import requests\n",
    "\n",
    "url = \"https://ronreiter-meme-generator.p.rapidapi.com/images\"\n",
    "\n",
    "headers = {\n",
    "\t\"x-rapidapi-key\": \"\",\n",
    "\t\"x-rapidapi-host\": \"ronreiter-meme-generator.p.rapidapi.com\"\n",
    "}\n",
    "\n",
    "response = requests.get(url, headers=headers)\n",
    "\n",
    "template_names = response.json()"
   ]
  },
  {
   "cell_type": "code",
   "execution_count": 8,
   "metadata": {},
   "outputs": [
    {
     "name": "stdout",
     "output_type": "stream",
     "text": [
      "['10-Guy', '1950s-Middle-Finger', '1990s-First-World-Problems', '1st-World-Canadian-Problems', '2nd-Term-Obama', 'Aaaaand-Its-Gone', 'Ace-Primo', 'Actual-Advice-Mallard', 'Adalia-Rose', 'Admiral-Ackbar-Relationship-Expert', 'Advice-Dog', 'Advice-Doge', 'Advice-God', 'Advice-Peeta', 'Advice-Tam', 'Advice-Yoda', 'Afraid-To-Ask-Andy', 'Afraid-To-Ask-Andy-Closeup', 'Aint-Nobody-Got-Time-For-That', 'Alan-Greenspan', 'Alarm-Clock', 'Albert-Cagestein', 'Albert-Einstein-1', 'Alien-Meeting-Suggestion', 'Alright-Gentlemen-We-Need-A-New-Idea', 'Always-Has-Been', 'Alyssa-Silent-Hill', 'Am-I-The-Only-One-Around-Here', 'American-Chopper-Argument', 'Ancient-Aliens', 'And-everybody-loses-their-minds', 'And-then-I-said-Obama', 'Angry-Asian', 'Angry-Baby', 'Angry-Birds-Pig', 'Angry-Bride', 'Angry-Chef-Gordon-Ramsay', 'Angry-Chicken-Boss', 'Angry-Dumbledore', 'Angry-Koala', 'Angry-Rant-Randy', 'Angry-Toddler', 'Annoying-Childhood-Friend', 'Annoying-Facebook-Girl', 'Anri-Stares', 'Anti-Joke-Chicken', 'Apathetic-Xbox-Laser', 'Archer', 'Are-Your-Parents-Brother-And-Sister', 'Are-you-a-Wizard', 'Arrogant-Rich-Man', 'Art-Attack', 'Art-Student-Owl', 'Arthur-Fist', 'Asshole-Ref', 'Aunt-Carol', 'Austin-Powers-Honestly', 'Aw-Yeah-Rage-Face', 'Awkward-Moment-Sealion', 'Awkward-Olympics', 'BANE-AND-BRUCE', 'BM-Employees', 'Babushkas-On-Facebook', 'Baby-Cry', 'Baby-Godfather', 'Baby-Insanity-Wolf', 'Back-In-My-Day', 'Bad-Advice-Cat', 'Bad-Joke-Eel', 'Bad-Luck-Bear', 'Bad-Luck-Brian', 'Bad-Luck-Hannah', 'Bad-Pun-Anna-Kendrick', 'Bad-Pun-Dog', 'Bad-Wife-Worse-Mom', 'Bah-Humbug', 'Bane', 'Bane-Permission', 'Barack-And-Kumar-2013', 'Barba', 'Barbosa-And-Sparrow', 'Barney-Stinson-Win', 'Baromney', 'Baron-Creater', 'Bart-Simpson-Peeking', 'Batman-And-Superman', 'Batman-Slapping-Robin', 'Batman-Smiles', 'Batmobile', 'Bazooka-Squirrel', 'Be-Like-Bill', 'Bear-Grylls', 'Beard-Baby', 'Bebo', 'Because-Race-Car', 'Ben-Barba-Pointing', 'Bender', 'Benito', 'Bernie-I-Am-Once-Again-Asking-For-Your-Support', 'Beyonce-Knowles-Superbowl', 'Beyonce-Knowles-Superbowl-Face', 'Beyonce-Superbowl-Yell', 'Big-Bird', 'Big-Bird-And-Mitt-Romney', 'Big-Bird-And-Snuffy', 'Big-Ego-Man', 'Big-Family-Comeback', 'Bike-Fall', 'Bill-Murray-Golf', 'Bill-Nye-The-Science-Guy', 'Bill-OReilly', 'Billy-Graham-Mitt-Romney', 'Bitch-Please', 'Black-Girl-Wat', 'Blank-Blue-Background', 'Blank-Colored-Background', 'Blank-Comic-Panel-1x2', 'Blank-Comic-Panel-2x1', 'Blank-Comic-Panel-2x2', 'Blank-Nut-Button', 'Blank-Starter-Pack', 'Blank-Transparent-Square', 'Blank-Yellow-Sign', 'Blob', 'Blue-Futurama-Fry', 'Boardroom-Meeting-Suggestion', 'Bonobo-Lyfe', 'Booty-Warrior', 'Bothered-Bond', 'Brace-Yourselves-X-is-Coming', 'Brian-Burke-On-The-Phone', 'Brian-Griffin', 'Brian-Williams-Was-There', 'Brian-Williams-Was-There-2', 'Brian-Williams-Was-There-3', 'Brian-Wilson-Vs-ZZ-Top', 'Britney-Spears', 'Bubba-And-Barack', 'Buddy-Christ', 'Buddy-The-Elf', 'Buff-Doge-vs-Cheems', 'Bullets', 'Burn-Kitty', 'Business-Cat', 'But-Thats-None-Of-My-Business', 'But-Thats-None-Of-My-Business-Neutral', 'Butthurt-Dweller', 'CASHWAG-Crew', 'CURLEY', 'Captain-Hindsight', 'Captain-Phillips-Im-The-Captain-Now', 'Captain-Picard-Facepalm', 'Car-Salesman-Slaps-Hood', 'Casper', 'Castaway-Fire', 'Ceiling-Cat', 'Cel-Jesuno', 'Cereal-Guy', 'Cereal-Guy-Spitting', 'Cereal-Guys-Daddy', 'Chad-Johnson', 'Chainsaw-Bear', 'Challenge-Accepted-Rage-Face', 'Change-My-Mind', 'Charlie-Sheen-Derp', 'Chavez', 'Chef-Gordon-Ramsay', 'Chemistry-Cat', 'Chester-The-Cat', 'Chicken-Bob', 'Chief-Keef', 'Chihuahua-dog', 'Chill-Out-Lemur', 'Chinese-Cat', 'Chocolate-Spongebob', 'Chubby-Bubbles-Girl', 'Chuck-Norris', 'Chuck-Norris-Approves', 'Chuck-Norris-Finger', 'Chuck-Norris-Flex', 'Chuck-Norris-Guns', 'Chuck-Norris-Laughing', 'Chuck-Norris-Phone', 'Chuck-Norris-With-Guns', 'Chuckchuckchuck', 'City-Bear', 'Cleavage-Girl', 'Clefable', 'Close-Enough', 'Clown-Applying-Makeup', 'College-Freshman', 'College-Liberal', 'Comic-Book-Guy', 'Computer-Guy', 'Computer-Guy-Facepalm', 'Computer-Horse', 'Condescending-Goku', 'Condescending-Wonka', 'Confession-Bear', 'Confused-Cam', 'Confused-Gandalf', 'Confused-Granddad', 'Confused-Lebowski', 'Confused-Mel-Gibson', 'Conspiracy-Keanu', 'Consuela', 'Contradictory-Chris', 'Cool-Cat-Stroll', 'Cool-Obama', 'Cool-Story-Bro', 'Corona', 'Costanza', 'Coulson', 'Courage-Wolf', 'Crazy-Dawg', 'Crazy-Girlfriend-Praying-Mantis', 'Crazy-Hispanic-Man', 'Creeper-Dog', 'Creepy-Condescending-Wonka', 'Criana', 'Crosseyed-Goku', 'Crying-Because-Of-Cute', 'Cute-Cat', 'Cute-Dog', 'Cute-Puppies', 'DJ-Pauly-D', 'Dad-Joke-Dog', 'Dafuq-Did-I-Just-Read', 'Dallas-Cowboys', 'Dancing-Trollmom', 'Darth-Maul', 'Darti-Boy', 'Dat-Ass', 'Dat-Boi', 'Dating-Site-Murderer', 'Dave-Chappelle', 'Dead-Space', 'Deadpool-Pick-Up-Lines', 'Deadpool-Surprised', 'Depressed-Cat', 'Depression-Dog', 'Derp', 'Derpina', 'Determined-Guy-Rage-Face', 'Dexter', 'Dick-Cheney', 'Disappointed-Tyson', 'Disaster-Girl', 'Distracted-Boyfriend', 'Do-I-Care-Doe', 'Doge', 'Doge-2', 'Dolph-Ziggler-Sells', 'Donald-Trump-sewing-his-name-into-the-American-Flag', 'Dont-You-Squidward', 'DoucheBag-DJ', 'Doug', 'Down-Syndrome', 'Downcast-Dark-Souls', 'Downvoting-Roman', 'Dr-Crane', 'Dr-Evil', 'Dr-Evil-Laser', 'Drake-Bad-Good', 'Drake-Hotline-Bling', 'Drunk-Baby', 'Duck-Face', 'Duck-Face-Chicks', 'Dumb-Blonde', 'Dwight-Schrute', 'Dwight-Schrute-2', 'ERMAHGERD-TWERLERT', 'Edu-Camargo', 'Edward-Elric-1', 'Efrain-Juarez', 'Eighties-Teen', 'Eminem', 'Empty-Red-And-Black', 'Endel-Tulviste', 'Engineering-Professor', 'Epic-Handshake', 'Epicurist-Kid', 'Ermahgerd-Berks', 'Ermahgerd-Beyonce', 'Ermahgerd-IPHERN-3GM', 'Error-404', 'Evil-Baby', 'Evil-Cows', 'Evil-Kermit', 'Evil-Otter', 'Evil-Plotting-Raccoon', 'Evil-Toddler', 'Excited-Cat', 'Excited-Minions', 'Expanding-Brain', 'Eye-Of-Sauron', 'FFFFFFFUUUUUUUUUUUU', 'FRANGO', 'Fabulous-Frank-And-His-Snake', 'Face-You-Make-Robert-Downey-Jr', 'Facepalm-Bear', 'Fake-Hurricane-Guy', 'Family-Guy-Brian', 'Family-Guy-Peter', 'Family-Tech-Support-Guy', 'Fast-Furious-Johnny-Tran', 'Fat-Cat', 'Fat-Val-Kilmer', 'Father-Ted', 'Fear-And-Loathing-Cat', 'Feels-Bad-Frog---Feels-Bad-Man', 'Felix-Baumgartner', 'Felix-Baumgartner-Lulz', 'Fernando-Litre', 'Fifa-E-Call-Of-Duty', 'Fim-De-Semana', 'Finding-Neverland', 'Fini', 'Finn-The-Human', 'First-Day-On-The-Internet-Kid', 'First-World-Frat-Guy', 'First-World-Problems', 'First-World-Problems-Cat', 'First-World-Stoner-Problems', 'Fk-Yeah', 'Flavor-Flav', 'Foal-Of-Mine', 'Folean-Dynamite', 'Forever-Alone', 'Forever-Alone-Christmas', 'Forever-Alone-Happy', 'Foul-Bachelor-Frog', 'Foul-Bachelorette-Frog', 'Friend-Zone-Fiona', 'Frowning-Nun', 'Frustrated-Boromir', 'Frustrating-Mom', 'Futurama-Fry', 'Futurama-Leela', 'Futurama-Zoidberg', 'Gaga-Baby', 'Gandhi', 'Gangnam-Style', 'Gangnam-Style-PSY', 'Gangnam-Style2', 'Gangster-Baby', 'Gasp-Rage-Face', 'George-Bush', 'George-Washington', 'Ghetto-Jesus', 'Ghost-Nappa', 'Giovanni-Vernia', 'Give-me-Karma---Beating-the-dead-horse', 'Gladys-Falcon', 'God', 'Gollum', 'Good-Fellas-Hilarious', 'Good-Guy-Greg', 'Good-Guy-Pizza-Rolls', 'Good-Guy-Putin', 'Good-Guy-Socially-Awkward-Penguin', 'Google-Chrome', 'Gordo', 'Got-Room-For-One-More', 'Gotta-Go-Cat', 'Grandma-Finds-The-Internet', 'Green-Day', 'Grumpy-Cat', 'Grumpy-Cat-Bed', 'Grumpy-Cat-Birthday', 'Grumpy-Cat-Christmas', 'Grumpy-Cat-Does-Not-Believe', 'Grumpy-Cat-Halloween', 'Grumpy-Cat-Happy', 'Grumpy-Cat-Mistletoe', 'Grumpy-Cat-Not-Amused', 'Grumpy-Cat-Reverse', 'Grumpy-Cat-Sky', 'Grumpy-Cat-Star-Wars', 'Grumpy-Cat-Table', 'Grumpy-Cat-Top-Hat', 'Grumpy-Cats-Father', 'Grumpy-Toad', 'Grus-Plan', 'Guinness-World-Record', 'Guy-Fawkes', 'Guy-Holding-Cardboard-Sign', 'Hal-Jordan', 'Hamtaro', 'Han-Solo', 'Happy-Guy-Rage-Face', 'Happy-Minaj', 'Happy-Minaj-2', 'Happy-Star-Congratulations', 'Hard-To-Swallow-Pills', 'Hardworking-Guy', 'Harley-Quinn', 'Harmless-Scout-Leader', 'Harper-WEF', 'Harry-Potter-Ok', 'Hawkward', 'He-Needs-The-Vaccine', 'He-Will-Never-Get-A-Girlfriend', 'Headbanzer', 'Headless-Rider-DRRR', 'Heavy-Breathing-Cat', 'Hedonism-Bot', 'Hello-Kassem', 'Hello-Kitty', 'Helpful-Tyler-Durden', 'Henry-David-Thoreau', 'Hercules-Hades', 'Heres-Johnny', 'Herm-Edwards', 'Hey-Internet', 'Hide-Yo-Kids-Hide-Yo-Wife', 'Hide-the-Pain-Harold', 'High-Dog', 'High-Expectations-Asian-Father', 'Hillary-Clinton', 'Hillary-Clinton-Cellphone', 'Hipster-Ariel', 'Hipster-Barista', 'Hipster-Kitty', 'Hohoho', 'Homophobic-Seal', 'Hoody-Cat', 'Hora-Extra', 'Hornist-Hamster', 'Horny-Harry', 'Hot-Caleb', 'Hot-Scale', 'Hotline-Miami-Richard', 'House-Bunny', 'How-About-No-Bear', 'How-Tough-Are-You', 'Hypnotoad', 'Hypocritical-Islam-Terrorist', 'Hysterical-Tom', 'I-Am-Not-A-Gator-Im-A-X', 'I-Bet-Hes-Thinking-About-Other-Women', 'I-Forsee', 'I-Guarantee-It', 'I-Have-No-Idea-What-I-Am-Doing', 'I-Have-No-Idea-What-I-Am-Doing-Dog', 'I-Know-Fuck-Me-Right', 'I-Know-That-Feel-Bro', 'I-Lied-2', 'I-See-Dead-People', 'I-Should-Buy-A-Boat-Cat', 'I-Too-Like-To-Live-Dangerously', 'I-Was-Told-There-Would-Be', 'I-Will-Find-You-And-Kill-You', 'Idiot-Nerd-Girl', 'Idiotaco', 'If-You-Know-What-I-Mean-Bean', 'Ill-Have-You-Know-Spongebob', 'Ill-Just-Wait-Here', 'Im-Curious-Nappa', 'Im-Fabulous-Adam', 'Im-The-Captain-Now', 'Imagination-Spongebob', 'Impossibru-Guy-Original', 'Inception', 'Inhaling-Seagull', 'Inigo-Montoya', 'Innocent-Sasha', 'Insanity-Puppy', 'Insanity-Wolf', 'Intelligent-Dog', 'Internet-Explorer', 'Internet-Guide', 'Interupting-Kanye', 'Invalid-Argument-Vader', 'Is-This-A-Pigeon', 'Islam-Rage---Angry-Muslim', 'Its-Finally-Over', 'Its-Not-Going-To-Happen', 'Its-True-All-of-It-Han-Solo', 'Jack-Nicholson-The-Shining-Snow', 'Jack-Sparrow-Being-Chased', 'Jackie-Chan-WTF', 'Jammin-Baby', 'Jay-Knows-Facts', 'Jehovas-Witness-Squirrel', 'Jerkoff-Javert', 'Jersey-Santa', 'Jessica-Nigri-Cosplay', 'Jesus-Talking-To-Cool-Dude', 'Jim-Lehrer-The-Man', 'Joe-Biden', 'John-Riley-Condescension', 'Joker', 'Joker-Rainbow-Hands', 'Jon-Stewart-Skeptical', 'Joo-Espontneo', 'Joseph-Ducreux', 'Justin-Bieber-Suit', 'Karate-Kid', 'Karate-Kyle', 'Keep-Calm-And-Carry-On-Aqua', 'Keep-Calm-And-Carry-On-Black', 'Keep-Calm-And-Carry-On-Purple', 'Keep-Calm-And-Carry-On-Red', 'Kevin-Hart', 'Kevin-Hart-The-Hell', 'Kill-You-Cat', 'Kill-Yourself-Guy', 'Kim-Jong-Il-Y-U-No', 'Kim-Jong-Un-Sad', 'Koala', 'Kobe', 'Kool-Kid-Klan', 'Krusty-Krab-Vs-Chum-Bucket', 'Krusty-Krab-Vs-Chum-Bucket-Blank', 'Kyon-Face-Palm', 'LIGAF', 'LOL-Guy', 'Lame-Pun-Coon', 'Larfleeze', 'Larry-The-Cable-Guy', 'Laughing-Goat', 'Laughing-Leo', 'Laughing-Men-In-Suits', 'Laughing-Villains', 'Laundry-Viking', 'Lazy-College-Senior', 'Left-Exit-12-Off-Ramp', 'Legal-Bill-Murray', 'Leonardo-Dicaprio-Cheers', 'Leonardo-Dicaprio-Wolf-Of-Wall-Street', 'Lethal-Weapon-Danny-Glover', 'Lewandowski-E-Reus', 'Liam-Neeson-Taken', 'Liam-Neeson-Taken-2', 'Life-Sucks', 'Lil-Wayne', 'Lion-King', 'Little-Romney', 'Look-At-All-These', 'Look-At-Me', 'Look-Son', 'Luiz-Fabiano', 'Macklemore-Thrift-Store', 'Mad-Money-Jim-Cramer', 'Mad-Moxxi', 'Malicious-Advice-Mallard', 'Mamimoe', 'Manning-Broncos', 'Mario-Hammer-Smash', 'Marked-Safe-From', 'Maroney-And-Obama-Not-Impressed', 'Marvel-Civil-War', 'Marvel-Civil-War-1', 'Marvel-Civil-War-2', 'Matanza', 'Matrix-Morpheus', 'Maury-Lie-Detector', 'Mayu-Watanabe', 'McKayla-Maroney-Not-Impressed', 'McKayla-Maroney-Not-Impressed2', 'McMelch', 'Mega-Rage-Face', 'Member-Berries', 'Meme-Dad-Creature', 'Memeo', 'Men-In-Black', 'Men-Laughing', 'Merida-Brave', 'Metal-Jesus', 'Mexican-Pizza', 'Michael-Jackson-Popcorn', 'Michael-Phelps-Death-Stare', 'Minegishi-Minami', 'Minegishi-Minami2', 'Minor-Mistake-Marvin', 'Misunderstood-Mitch', 'Mitch-McConnell', 'Mocking-Spongebob', 'Modern-Warfare-3', 'Molly-Weasley', 'Money-Man', 'Money-Money', 'Monkey-Business', 'Monkey-OOH', 'Monkey-Puppet', 'Morgan-Freeman-Good-Luck', 'Morpheus', 'Morty', 'Mother-Of-God', 'Mozart-Not-Sure', 'Mr-Black-Knows-Everything', 'Mr-Krabs-Blur-Meme', 'Mr-Mackey', 'Mr-T', 'Mr-T-Pity-The-Fool', 'Mugatu-So-Hot-Right-Now', 'Multi-Doge', 'Murica', 'Muschamp', 'Musically-Oblivious-8th-Grader', 'NPC', 'Nabilah-Jkt48', 'Nailed-It', 'Nakagawa-Haruka', 'Natsu', 'Neil-deGrasse-Tyson', 'Net-Noob', 'Nice-Guy-Loki', 'Nickleback', 'Nicolas-Cage---You-dont-say', 'Nilo', 'Nissim-Ourfali', 'No-Bullshit-Business-Baby', 'No-I-Cant-Obama', 'No-Nappa-Its-A-Trick', 'No-Patrick', 'Not-Bad-Obama', 'Not-Okay-Rage-Face', 'Not-a-Meme,-Just-Boobs', 'Nuclear-Explosion', 'OMG-Cat', 'OMG-Karen', 'Obama', 'Obama-Cowboy-Hat', 'Obama-No-Listen', 'Obama-Romney-Pointing', 'Obi-Wan-Kenobi', 'Oblivious-Hot-Girl', 'Officer-Cartman', 'Oh-My-God-Orange', 'Oh-No', 'Okay-Guy-Rage-Face', 'Okay-Guy-Rage-Face2', 'Okay-Truck', 'Oku-Manami', 'Onde', 'One-Does-Not-Simply', 'Oprah-You-Get-A', 'Oprah-You-Get-A-Car-Everybody-Gets-A-Car', 'Optimistic-Niall', 'Ordinary-Muslim-Man', 'Original-Bad-Luck-Brian', 'Original-I-Lied', 'Original-Stoner-Dog', 'Osabama', 'Our-Glorious-Leader-Nicolas-Cage', 'Over-Educated-Problems', 'Overjoyed', 'Overly-Attached-Father', 'Overly-Attached-Girlfriend', 'Overly-Attached-Nicolas-Cage', 'Overly-Manly-Man', 'Overly-Suave-IT-Guy', 'PPAP', 'PTSD-Clarinet-Boy', 'Packers', 'Panik-Kalm-Panik', 'Papa-Fking-John', 'Paranoid-Parrot', 'Pat-Quinn', 'Pathetic-Spidey', 'Patrick-Bateman', 'Patrick-Henry', 'Patrick-Says', 'Patriotic-Eagle', 'Paul-Ryan', 'Paul-Wonder-Years', 'Pedobear', 'Pedophile-Orochimaru', 'Pelosi', 'Penguin-Gang', 'Pentagon-Hexagon-Octagon', 'Pepperidge-Farm-Remembers', 'Perfection-Michael-Fassbender', 'Permission-Bane', 'Persian-Cat-Room-Guardian', 'Persian-Cat-Room-Guardian-Single', 'Perturbed-Portman', 'Peter-Griffin-News', 'Peter-Parker-Cry', 'Philosoraptor', 'Photogenic-College-Football-Player', 'Photogenic-Scene-Guy', 'Picard-Wtf', 'Pickle-Rick', 'Pickup-Line-Panda', 'Pickup-Master', 'Pickup-Professor', 'Pillow-Pet', 'Pink-Escalade', 'Pinky-and-the-Brain', 'Pissed-Off-Obama', 'Police-Officer-Testifying', 'Pony-Shrugs', 'Pope-Nicolas-Cage', 'Portuguese', 'Pothead-Fry', 'Predator', 'Premature-Pete', 'Presidential-Alert', 'Priority-Peter', 'Professor-Oak', 'Proper-Lady', 'Psy-Horse-Dance', 'Put-It-Somewhere-Else-Patrick', 'Putin', 'Question-Rage-Face', 'Questionable-Strategy-Kobe', 'Quit-Hatin', 'RPG-Fan', 'Rarity', 'Rasta-Science-Teacher', 'Really-Evil-College-Teacher', 'Rebecca-Black', 'Redditors-Wife', 'Rediculously-Well-Mannered-Athlete', 'Redneck-Randal', 'Reimu-Hakurei', 'Relaxed-Office-Guy', 'Religious-Couple', 'Rena-Matsui', 'Rich-Guy-Dont-Care', 'Rich-Raven', 'Richard-Benson', 'Rick', 'Rick-Grimes', 'Rick-and-Carl', 'Rick-and-Carl-3', 'Rick-and-Carl-Long', 'Rick-and-Carl-Longer', 'Ridiculously-Photogenic-Guy', 'Ridiculously-Photogenic-Judge', 'Right-In-The-Childhood', 'Rmoney-Again', 'Rob-In-The-Hood', 'Robots', 'Rocket-Raccoon', 'Rodgers-Doublecheck', 'Roll-Safe-Think-About-It', 'Romney', 'Romney-And-Ryan', 'Romney-Bong', 'Romneys-Hindenberg', 'Ron-Burgundy', 'Ron-Swanson', 'Running-Away-Balloon', 'Ryan-Gosling', 'Sad-Axl', 'Sad-Baby', 'Sad-Cat', 'Sad-Keanu', 'Sad-Pablo-Escobar', 'Sad-Spiderman', 'Sad-X-All-The-Y', 'Sadly-I-Am-Only-An-Eel', 'Samuel-Jackson-Glance', 'Samuel-L-Jackson', 'Sarcastic-Anthony', 'Sassy-Iguana', 'Satisfied-Seal', 'Saw-Fulla', 'Say-That-Again-I-Dare-You', 'Scared-Cat', 'Scary-Harry', 'Scene-Wolf', 'Scooby-Doo', 'Scott-Howson', 'Scrooge-McDuck', 'Scrooge-McDuck-2', 'Scumbag-Boss', 'Scumbag-Brain', 'Scumbag-Daylight-Savings-Time', 'Scumbag-Girl', 'Scumbag-Job-Market', 'Scumbag-MSNBC', 'Scumbag-Minecraft', 'Scumbag-Miraak', 'Scumbag-Muslim', 'Scumbag-Parents', 'Scumbag-Redditor', 'Scumbag-Steve', 'Secure-Parking', 'See-Nobody-Cares', 'Self-Loathing-Otter', 'Selfish-Ozzy', 'Sergeant-Hartmann', 'Serious-Xzibit', 'Seriously-Face', 'Sexual-Deviant-Walrus', 'Sexually-Oblivious-Girlfriend', 'Sexually-Oblivious-Rhino', 'Sexy-Railroad-Spiderman', 'Shaq-Only-Smokes-The-Dankest', 'Sheltering-Suburban-Mom', 'Shocked-Ape', 'Short-Satisfaction-VS-Truth', 'Shouter', 'Shrek-Cat', 'Shut-Up-And-Take-My-Money-Fry', 'Shutup-Batty-Boy', 'Sidious-Error', 'Sigmund-Freud', 'Simba-Shadowy-Place', 'Simpsons-Grandpa', 'Simsimi', 'Since-When-Were-You-Under-The-Impression', 'Sinestro', 'Skeptical-Baby', 'Skeptical-Swardson', 'Skinhead-John-Travolta', 'Skype', 'Sleeping-Shaq', 'Slenderman', 'Slick-Fry', 'Slowpoke', 'Small-Dog', 'Small-Face-Romney', 'Smilin-Biden', 'Smiling-Cat', 'Smiling-Jesus', 'Smirk-Rage-Face', 'Smug-Bear', 'Snape', 'Snoop', 'So-God-Made-A-Farmer', 'So-I-Got-That-Goin-For-Me-Which-Is-Nice', 'So-I-Got-That-Goin-For-Me-Which-Is-Nice-2', 'So-I-Guess-You-Can-Say-Things-Are-Getting-Pretty-Serious', 'So-Many-Shirts', 'So-Much-Drama', 'Socially-Awesome-Awkward-Penguin', 'Socially-Awesome-Penguin', 'Socially-Awkward-Awesome-Penguin', 'Socially-Awkward-Couple', 'Socially-Awkward-Penguin', 'Solemn-Lumberjack', 'SonTung', 'Sotally-Tober', 'South-Park-Craig', 'Spacey-Casey', 'Spangles', 'Sparta-Leonidas', 'Speechless-Colbert-Face', 'Spiderman-Camera', 'Spiderman-Computer-Desk', 'Spiderman-Hospital', 'Spiderman-Laugh', 'Spiderman-Peter-Parker', 'Sponegebob-Coffee', 'Spongebob-Ight-Imma-Head-Out', 'Spongegar', 'Squidward', 'Star-Wars-No', 'Star-Wars-Yoda', 'Stephen-Harper-Podium', 'Steve-Harvey', 'Steve-Jobs', 'Stoner-Dog', 'Stoner-PhD', 'Stop-Cop', 'Storytelling-Grandpa', 'Subtle-Pickup-Liner', 'Success-Kid', 'Success-Kid-Girl', 'Success-Kid-Original', 'Successful-Black-Man', 'Sudden-Clarity-Clarence', 'Sudden-Disgust-Danny', 'Super-Birthday-Squirrel', 'Super-Cool-Ski-Instructor', 'Super-Kami-Guru-Allows-This', 'Superior-Wadsworth', 'Surpised-Frodo', 'Surprised-CatMan', 'Surprised-Coala', 'Surprised-Koala', 'Surprised-Pikachu', 'Surprized-Vegeta', 'Suspicious-Cat', 'Sweaty-Concentrated-Rage-Face', 'TED', 'TSA-Douche', 'Table-Flip-Guy', 'Take-A-Seat-Cat', 'Talk-To-Spongebob', 'Tamou', 'Team-Rocket', 'Tears-Of-Joy', 'Tech-Impaired-Duck', 'Tennis-Defeat', 'Terry-Davis', 'That-Would-Be-Great', 'Thats-Just-Something-X-Say', 'Thats-a-paddlin', 'The-Bobs', 'The-Critic', 'The-Most-Interesting-Cat-In-The-World', 'The-Most-Interesting-Justin-Bieber', 'The-Most-Interesting-Man-In-The-World', 'The-Probelm-Is', 'The-Problem-Is', 'The-Rock-Driving', 'The-Rock-It-Doesnt-Matter', 'The-Scroll-Of-Truth', 'These-Arent-The-Droids-You-Were-Looking-For', 'Theyre-The-Same-Picture', 'Think', 'Third-World-Skeptical-Kid', 'Third-World-Success-Kid', 'This-Is-Fine', 'This-Is-Where-Id-Put-My-Trophy-If-I-Had-One', 'Thumbs-Up-Emoji', 'Time-To-Fap', 'Today-Was-A-Good-Day', 'Tom-Hardy-', 'Tomas-Rosicky', 'Too-Damn-High', 'Too-Drunk-At-Party-Tina', 'Too-Kool-Kyle', 'Torreshit', 'Tough-Guy-Wanna-Be', 'Trailer-Park-Boys-Bubbles', 'Travelonshark', 'Troll-Face', 'Troll-Face-Colored', 'True-Story', 'Trump-Bill-Signing', 'Turkey', 'Tuxedo-Winnie-The-Pooh', 'Two-Buttons', 'UNO-Draw-25-Cards', 'USA-Lifter', 'Ugly-Twins', 'Uncle-Sam', 'Unhappy-Baby', 'Unhelpful-High-School-Teacher', 'Unicorn-MAN', 'Unpopular-Opinion-Puffin', 'Unsettled-Tom', 'Unwanted-House-Guest', 'V-For-Vendetta', 'Vali-Corleone', 'Vengeance-Dad', 'Viking-Dudes', 'Vladimir-Putin', 'WTF', 'Waiting-Skeleton', 'Warning-Sign', 'We-Will-Rebuild', 'Weird-Stuff-I-Do-Potoo', 'Welcome-To-The-Internets', 'Well-That-Escalated-Quickly', 'What-Do-We-Want', 'What-Do-We-Want-3', 'What-Year-Is-It', 'Whisper-Sloth', 'Who-Killed-Hannibal', 'Why-Cant-I', 'Why-Cant-I-Hold-All-These-Limes', 'Why-Is-The-Rum-Gone', 'Why-Not-Both', 'Will-Ferrell', 'Wink', 'Woah-Kitty', 'Woman-Yelling-At-Cat', 'Wrong-Neighboorhood-Cats', 'Wrong-Number-Rita', 'X,-X-Everywhere', 'X-All-The-Y', 'X-Everywhere', 'X-X-Everywhere', 'Y-U-No', 'Yakuza', 'Yall-Got-Any-More-Of', 'Yall-Got-Any-More-Of-That', 'Yao-Ming', 'Yo-Dawg-Heard-You', 'Yo-Mamas-So-Fat', 'You-Dont-Say', 'You-Dont-Want-No-Part-Of-This', 'You-Get-An-X-And-You-Get-An-X', 'You-Should-Feel-Bad-Zoidberg', 'You-The-Real-MVP', 'You-The-Real-MVP-2', 'You-Underestimate-My-Power', 'You-Were-The-Chosen-One-Star-Wars', 'Young-And-Reckless', 'Young-Cardi-B', 'Youre-Too-Slow-Sonic', 'Yuko-With-Gun', 'ZNMD', 'Zoidberg-Jesus', 'Zombie-Bad-Luck-Brian', 'Zombie-Overly-Attached-Girlfriend', 'Zorg', 'Zuckerberg', 'Zura-Janai-Katsura-Da', 'confession-kid']\n"
     ]
    }
   ],
   "source": [
    "print(template_names)"
   ]
  },
  {
   "cell_type": "code",
   "execution_count": 6,
   "metadata": {},
   "outputs": [],
   "source": [
    "template_names.remove('poster')"
   ]
  },
  {
   "cell_type": "code",
   "execution_count": 7,
   "metadata": {},
   "outputs": [
    {
     "data": {
      "text/plain": [
       "999"
      ]
     },
     "execution_count": 7,
     "metadata": {},
     "output_type": "execute_result"
    }
   ],
   "source": [
    "len(template_names)"
   ]
  },
  {
   "cell_type": "code",
   "execution_count": 9,
   "metadata": {},
   "outputs": [],
   "source": [
    "import pandas as pd\n",
    "\n",
    "memes_df = pd.DataFrame(template_names, columns=['Name'])"
   ]
  },
  {
   "cell_type": "code",
   "execution_count": 11,
   "metadata": {},
   "outputs": [
    {
     "data": {
      "text/html": [
       "<div>\n",
       "<style scoped>\n",
       "    .dataframe tbody tr th:only-of-type {\n",
       "        vertical-align: middle;\n",
       "    }\n",
       "\n",
       "    .dataframe tbody tr th {\n",
       "        vertical-align: top;\n",
       "    }\n",
       "\n",
       "    .dataframe thead th {\n",
       "        text-align: right;\n",
       "    }\n",
       "</style>\n",
       "<table border=\"1\" class=\"dataframe\">\n",
       "  <thead>\n",
       "    <tr style=\"text-align: right;\">\n",
       "      <th></th>\n",
       "      <th>Name</th>\n",
       "    </tr>\n",
       "  </thead>\n",
       "  <tbody>\n",
       "    <tr>\n",
       "      <th>0</th>\n",
       "      <td>10-Guy</td>\n",
       "    </tr>\n",
       "    <tr>\n",
       "      <th>1</th>\n",
       "      <td>1950s-Middle-Finger</td>\n",
       "    </tr>\n",
       "    <tr>\n",
       "      <th>2</th>\n",
       "      <td>1990s-First-World-Problems</td>\n",
       "    </tr>\n",
       "    <tr>\n",
       "      <th>3</th>\n",
       "      <td>1st-World-Canadian-Problems</td>\n",
       "    </tr>\n",
       "    <tr>\n",
       "      <th>4</th>\n",
       "      <td>2nd-Term-Obama</td>\n",
       "    </tr>\n",
       "    <tr>\n",
       "      <th>5</th>\n",
       "      <td>Aaaaand-Its-Gone</td>\n",
       "    </tr>\n",
       "    <tr>\n",
       "      <th>6</th>\n",
       "      <td>Ace-Primo</td>\n",
       "    </tr>\n",
       "    <tr>\n",
       "      <th>7</th>\n",
       "      <td>Actual-Advice-Mallard</td>\n",
       "    </tr>\n",
       "    <tr>\n",
       "      <th>8</th>\n",
       "      <td>Adalia-Rose</td>\n",
       "    </tr>\n",
       "    <tr>\n",
       "      <th>9</th>\n",
       "      <td>Admiral-Ackbar-Relationship-Expert</td>\n",
       "    </tr>\n",
       "  </tbody>\n",
       "</table>\n",
       "</div>"
      ],
      "text/plain": [
       "                                 Name\n",
       "0                              10-Guy\n",
       "1                 1950s-Middle-Finger\n",
       "2          1990s-First-World-Problems\n",
       "3         1st-World-Canadian-Problems\n",
       "4                      2nd-Term-Obama\n",
       "5                    Aaaaand-Its-Gone\n",
       "6                           Ace-Primo\n",
       "7               Actual-Advice-Mallard\n",
       "8                         Adalia-Rose\n",
       "9  Admiral-Ackbar-Relationship-Expert"
      ]
     },
     "execution_count": 11,
     "metadata": {},
     "output_type": "execute_result"
    }
   ],
   "source": [
    "memes_df.head(10)"
   ]
  },
  {
   "cell_type": "markdown",
   "metadata": {},
   "source": [
    "__Utility Func 0.1:__ ChatGPT Call for Feature Generation for Meme Template Dataset:"
   ]
  },
  {
   "cell_type": "code",
   "execution_count": 18,
   "metadata": {},
   "outputs": [],
   "source": [
    "import openai\n",
    "import json\n",
    "\n",
    "client = openai.OpenAI(api_key=key)\n",
    "\n",
    "meme_feature_extraction_function = {\n",
    "    \"name\": \"generate_meme_features\",\n",
    "    \"description\": \"Generate structured marketing features for a given meme template.\",\n",
    "    \"parameters\": {\n",
    "        \"type\": \"object\",\n",
    "        \"properties\": {\n",
    "            \"meme_template\": {\n",
    "                \"type\": \"string\",\n",
    "                \"description\": \"The name of the meme template to generate features for.\"\n",
    "            }\n",
    "        },\n",
    "        \"required\": [\"meme_template\"],\n",
    "        \"additionalProperties\": False\n",
    "    }\n",
    "}\n",
    "\n",
    "def extract_meme_features(meme_template):\n",
    "    system_prompt = \"\"\"\n",
    "    You are an AI assistant that generates structured marketing features for meme templates.\n",
    "    Each meme template is used for marketing purposes, particularly in social media advertising and brand engagement.\n",
    "\n",
    "    You must return a structured JSON response with the following properties:\n",
    "\n",
    "    - **audience**: The type of audience that best relates to the meme (e.g., Millennials, Gen Z, Professionals).\n",
    "    - **humor_type**: The style of humor used in the meme (e.g., Relatable, Sarcastic, Dark, Corporate-friendly).\n",
    "    - **industry**: The industries where this meme would work well (e.g., Fashion, Tech, Food).\n",
    "    - **product**: Example of a product or service that could be marketed using this meme.\n",
    "    - **platform**: The best social media platforms for this meme (e.g., Instagram, Twitter, LinkedIn, TikTok).\n",
    "    - **marketing_goal**: The main marketing objective (e.g., Brand Awareness, Sales Promotion, Customer Engagement).\n",
    "    - **emotion_targeted**: The core emotion that this meme triggers (e.g., FOMO, Excitement, Regret, Humor).\n",
    "    - **engagement_type**: The kind of interaction this meme encourages (e.g., \"Tag a Friend\", \"Share\", \"Comment\").\n",
    "    - **brand_tone**: The general brand voice that aligns with this meme (e.g., Playful, Luxury, Professional).\n",
    "    - **meme_complexity**: Whether the meme is simple (easy to understand at a glance) or complex (requires some thinking).\n",
    "    - **keywords**: A list of 10 relevant keywords associated with this meme.\n",
    "\n",
    "    Ensure the output strictly follows the specified JSON format.\n",
    "    \"\"\"\n",
    "\n",
    "    completion = client.chat.completions.create(\n",
    "        model=\"gpt-4o\",\n",
    "        messages=[\n",
    "            {\"role\": \"system\", \"content\": system_prompt},\n",
    "            {\"role\": \"user\", \"content\": f\"Generate features for the meme template: {meme_template}\"}\n",
    "        ],\n",
    "        tools=[{\"type\": \"function\", \"function\": meme_feature_extraction_function}],\n",
    "        tool_choice=\"required\",\n",
    "        response_format={\"type\": \"json_object\"}\n",
    "    )\n",
    "\n",
    "    if not completion.choices[0].message.tool_calls:\n",
    "        raise ValueError(\"Function was not called by the model. Debugging required.\")\n",
    "\n",
    "    tool_call = completion.choices[0].message.tool_calls[0]\n",
    "\n",
    "    try:\n",
    "        response_data = json.loads(tool_call.function.arguments)\n",
    "    except json.JSONDecodeError:\n",
    "        raise ValueError(\"Function response is not valid JSON. Check OpenAI response.\")\n",
    "\n",
    "    return response_data\n"
   ]
  },
  {
   "cell_type": "code",
   "execution_count": 19,
   "metadata": {},
   "outputs": [],
   "source": [
    "meme_template_name = \"surprised-pikachu\"\n",
    "meme_features = extract_meme_features(meme_template_name)"
   ]
  },
  {
   "cell_type": "code",
   "execution_count": 20,
   "metadata": {},
   "outputs": [
    {
     "name": "stdout",
     "output_type": "stream",
     "text": [
      "{\n",
      "    \"meme_template\": \"surprised-pikachu\"\n",
      "}\n"
     ]
    }
   ],
   "source": [
    "print(json.dumps(meme_features, indent=4))"
   ]
  },
  {
   "cell_type": "code",
   "execution_count": null,
   "metadata": {},
   "outputs": [],
   "source": []
  }
 ],
 "metadata": {
  "kernelspec": {
   "display_name": "Python 3",
   "language": "python",
   "name": "python3"
  },
  "language_info": {
   "codemirror_mode": {
    "name": "ipython",
    "version": 3
   },
   "file_extension": ".py",
   "mimetype": "text/x-python",
   "name": "python",
   "nbconvert_exporter": "python",
   "pygments_lexer": "ipython3",
   "version": "3.11.0"
  }
 },
 "nbformat": 4,
 "nbformat_minor": 2
}
