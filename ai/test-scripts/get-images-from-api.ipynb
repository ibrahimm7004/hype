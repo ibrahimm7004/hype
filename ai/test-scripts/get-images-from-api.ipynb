{
 "cells": [
  {
   "cell_type": "code",
   "execution_count": 36,
   "metadata": {},
   "outputs": [],
   "source": [
    "MEME_API_KEY = \"da442d1a07msh35ea4afaa2de140p1274c5jsn0dafcfa44aca\"\n",
    "\n",
    "import os\n",
    "import requests"
   ]
  },
  {
   "cell_type": "code",
   "execution_count": 37,
   "metadata": {},
   "outputs": [],
   "source": [
    "def meme_api_call(meme_name, top_text, bottom_text):\n",
    "    url = \"https://ronreiter-meme-generator.p.rapidapi.com/meme\"\n",
    "\n",
    "    querystring = {\"font_size\":\"20\",\"top\":top_text,\"font\":\"Impact\",\"bottom\":bottom_text,\"meme\":meme_name}\n",
    "\n",
    "    headers = {\n",
    "        \"x-rapidapi-key\": MEME_API_KEY,\n",
    "        \"x-rapidapi-host\": \"ronreiter-meme-generator.p.rapidapi.com\"\n",
    "    }\n",
    "\n",
    "    response = requests.get(url, headers=headers, params=querystring)\n",
    "\n",
    "    return response"
   ]
  },
  {
   "cell_type": "code",
   "execution_count": 38,
   "metadata": {},
   "outputs": [],
   "source": [
    "def create_meme(count, meme_name, top_text = \" \", bottom_text = \" \"):\n",
    "    response = meme_api_call(meme_name, top_text, bottom_text)\n",
    "\n",
    "    if response.status_code == 200:\n",
    "        with open(f\"{meme_name}.jpg\", \"wb\") as file:\n",
    "            file.write(response.content)\n",
    "        print(f\"{count}: Image successfully saved as '{meme_name}.jpg'\")\n",
    "    else:\n",
    "        print(f\"Error {response.status_code}: {response.text}\")"
   ]
  },
  {
   "cell_type": "code",
   "execution_count": 7,
   "metadata": {},
   "outputs": [],
   "source": [
    "import pandas as pd\n",
    "\n",
    "df = pd.read_csv(r'C:\\Users\\hp\\Desktop\\fyp\\mvp\\memes_dataset.csv')"
   ]
  },
  {
   "cell_type": "code",
   "execution_count": 8,
   "metadata": {},
   "outputs": [
    {
     "data": {
      "text/plain": [
       "0                         10-Guy\n",
       "1            1950s-Middle-Finger\n",
       "2     1990s-First-World-Problems\n",
       "3    1st-World-Canadian-Problems\n",
       "4                 2nd-Term-Obama\n",
       "Name: Meme Name, dtype: object"
      ]
     },
     "execution_count": 8,
     "metadata": {},
     "output_type": "execute_result"
    }
   ],
   "source": [
    "df = df['Meme Name']\n",
    "df.head()"
   ]
  },
  {
   "cell_type": "code",
   "execution_count": 21,
   "metadata": {},
   "outputs": [],
   "source": [
    "df = df.to_frame(name='Meme Name')"
   ]
  },
  {
   "cell_type": "code",
   "execution_count": 22,
   "metadata": {},
   "outputs": [
    {
     "data": {
      "text/html": [
       "<div>\n",
       "<style scoped>\n",
       "    .dataframe tbody tr th:only-of-type {\n",
       "        vertical-align: middle;\n",
       "    }\n",
       "\n",
       "    .dataframe tbody tr th {\n",
       "        vertical-align: top;\n",
       "    }\n",
       "\n",
       "    .dataframe thead th {\n",
       "        text-align: right;\n",
       "    }\n",
       "</style>\n",
       "<table border=\"1\" class=\"dataframe\">\n",
       "  <thead>\n",
       "    <tr style=\"text-align: right;\">\n",
       "      <th></th>\n",
       "      <th>Meme Name</th>\n",
       "    </tr>\n",
       "  </thead>\n",
       "  <tbody>\n",
       "    <tr>\n",
       "      <th>0</th>\n",
       "      <td>10-Guy</td>\n",
       "    </tr>\n",
       "    <tr>\n",
       "      <th>1</th>\n",
       "      <td>1950s-Middle-Finger</td>\n",
       "    </tr>\n",
       "    <tr>\n",
       "      <th>2</th>\n",
       "      <td>1990s-First-World-Problems</td>\n",
       "    </tr>\n",
       "    <tr>\n",
       "      <th>3</th>\n",
       "      <td>1st-World-Canadian-Problems</td>\n",
       "    </tr>\n",
       "    <tr>\n",
       "      <th>4</th>\n",
       "      <td>2nd-Term-Obama</td>\n",
       "    </tr>\n",
       "  </tbody>\n",
       "</table>\n",
       "</div>"
      ],
      "text/plain": [
       "                     Meme Name\n",
       "0                       10-Guy\n",
       "1          1950s-Middle-Finger\n",
       "2   1990s-First-World-Problems\n",
       "3  1st-World-Canadian-Problems\n",
       "4               2nd-Term-Obama"
      ]
     },
     "execution_count": 22,
     "metadata": {},
     "output_type": "execute_result"
    }
   ],
   "source": [
    "df.head()"
   ]
  },
  {
   "cell_type": "code",
   "execution_count": 39,
   "metadata": {},
   "outputs": [
    {
     "name": "stdout",
     "output_type": "stream",
     "text": [
      "900: Image successfully saved as 'The-Probelm-Is.jpg'\n",
      "901: Image successfully saved as 'The-Problem-Is.jpg'\n",
      "902: Image successfully saved as 'The-Rock-Driving.jpg'\n",
      "903: Image successfully saved as 'The-Rock-It-Doesnt-Matter.jpg'\n",
      "904: Image successfully saved as 'The-Scroll-Of-Truth.jpg'\n",
      "905: Image successfully saved as 'These-Arent-The-Droids-You-Were-Looking-For.jpg'\n",
      "Error 500: <!DOCTYPE HTML PUBLIC \"-//W3C//DTD HTML 3.2 Final//EN\">\n",
      "<title>500 Internal Server Error</title>\n",
      "<h1>Internal Server Error</h1>\n",
      "<p>The server encountered an internal error and was unable to complete your request. Either the server is overloaded or there is an error in the application.</p>\n",
      "\n",
      "907: Image successfully saved as 'Think.jpg'\n",
      "908: Image successfully saved as 'Third-World-Skeptical-Kid.jpg'\n",
      "909: Image successfully saved as 'Third-World-Success-Kid.jpg'\n",
      "910: Image successfully saved as 'This-Is-Fine.jpg'\n",
      "911: Image successfully saved as 'This-Is-Where-Id-Put-My-Trophy-If-I-Had-One.jpg'\n",
      "912: Image successfully saved as 'Thumbs-Up-Emoji.jpg'\n",
      "913: Image successfully saved as 'Time-To-Fap.jpg'\n",
      "914: Image successfully saved as 'Today-Was-A-Good-Day.jpg'\n",
      "915: Image successfully saved as 'Tom-Hardy-.jpg'\n",
      "916: Image successfully saved as 'Tomas-Rosicky.jpg'\n",
      "917: Image successfully saved as 'Too-Damn-High.jpg'\n",
      "918: Image successfully saved as 'Too-Drunk-At-Party-Tina.jpg'\n",
      "919: Image successfully saved as 'Too-Kool-Kyle.jpg'\n",
      "920: Image successfully saved as 'Torreshit.jpg'\n",
      "921: Image successfully saved as 'Tough-Guy-Wanna-Be.jpg'\n",
      "922: Image successfully saved as 'Trailer-Park-Boys-Bubbles.jpg'\n",
      "923: Image successfully saved as 'Travelonshark.jpg'\n",
      "924: Image successfully saved as 'Troll-Face.jpg'\n",
      "925: Image successfully saved as 'Troll-Face-Colored.jpg'\n",
      "926: Image successfully saved as 'True-Story.jpg'\n",
      "927: Image successfully saved as 'Trump-Bill-Signing.jpg'\n",
      "928: Image successfully saved as 'Turkey.jpg'\n",
      "Error 500: <!DOCTYPE HTML PUBLIC \"-//W3C//DTD HTML 3.2 Final//EN\">\n",
      "<title>500 Internal Server Error</title>\n",
      "<h1>Internal Server Error</h1>\n",
      "<p>The server encountered an internal error and was unable to complete your request. Either the server is overloaded or there is an error in the application.</p>\n",
      "\n",
      "930: Image successfully saved as 'Two-Buttons.jpg'\n",
      "931: Image successfully saved as 'UNO-Draw-25-Cards.jpg'\n",
      "932: Image successfully saved as 'USA-Lifter.jpg'\n",
      "933: Image successfully saved as 'Ugly-Twins.jpg'\n",
      "934: Image successfully saved as 'Uncle-Sam.jpg'\n",
      "935: Image successfully saved as 'Unhappy-Baby.jpg'\n",
      "936: Image successfully saved as 'Unhelpful-High-School-Teacher.jpg'\n",
      "937: Image successfully saved as 'Unicorn-MAN.jpg'\n",
      "938: Image successfully saved as 'Unpopular-Opinion-Puffin.jpg'\n",
      "939: Image successfully saved as 'Unsettled-Tom.jpg'\n",
      "940: Image successfully saved as 'Unwanted-House-Guest.jpg'\n",
      "941: Image successfully saved as 'V-For-Vendetta.jpg'\n",
      "942: Image successfully saved as 'Vali-Corleone.jpg'\n",
      "943: Image successfully saved as 'Vengeance-Dad.jpg'\n",
      "944: Image successfully saved as 'Viking-Dudes.jpg'\n",
      "945: Image successfully saved as 'Vladimir-Putin.jpg'\n",
      "946: Image successfully saved as 'WTF.jpg'\n",
      "947: Image successfully saved as 'Waiting-Skeleton.jpg'\n",
      "948: Image successfully saved as 'Warning-Sign.jpg'\n",
      "949: Image successfully saved as 'We-Will-Rebuild.jpg'\n",
      "950: Image successfully saved as 'Weird-Stuff-I-Do-Potoo.jpg'\n",
      "951: Image successfully saved as 'Welcome-To-The-Internets.jpg'\n",
      "952: Image successfully saved as 'Well-That-Escalated-Quickly.jpg'\n",
      "953: Image successfully saved as 'What-Do-We-Want.jpg'\n",
      "954: Image successfully saved as 'What-Do-We-Want-3.jpg'\n",
      "955: Image successfully saved as 'What-Year-Is-It.jpg'\n",
      "956: Image successfully saved as 'Whisper-Sloth.jpg'\n",
      "957: Image successfully saved as 'Who-Killed-Hannibal.jpg'\n",
      "958: Image successfully saved as 'Why-Cant-I.jpg'\n",
      "959: Image successfully saved as 'Why-Cant-I-Hold-All-These-Limes.jpg'\n",
      "960: Image successfully saved as 'Why-Is-The-Rum-Gone.jpg'\n",
      "961: Image successfully saved as 'Why-Not-Both.jpg'\n",
      "962: Image successfully saved as 'Will-Ferrell.jpg'\n",
      "963: Image successfully saved as 'Wink.jpg'\n",
      "964: Image successfully saved as 'Woah-Kitty.jpg'\n",
      "965: Image successfully saved as 'Woman-Yelling-At-Cat.jpg'\n",
      "966: Image successfully saved as 'Wrong-Neighboorhood-Cats.jpg'\n",
      "967: Image successfully saved as 'Wrong-Number-Rita.jpg'\n",
      "968: Image successfully saved as 'X,-X-Everywhere.jpg'\n",
      "969: Image successfully saved as 'X-All-The-Y.jpg'\n",
      "970: Image successfully saved as 'X-Everywhere.jpg'\n",
      "971: Image successfully saved as 'X-X-Everywhere.jpg'\n",
      "972: Image successfully saved as 'Y-U-No.jpg'\n",
      "973: Image successfully saved as 'Yakuza.jpg'\n",
      "974: Image successfully saved as 'Yall-Got-Any-More-Of.jpg'\n",
      "975: Image successfully saved as 'Yall-Got-Any-More-Of-That.jpg'\n",
      "976: Image successfully saved as 'Yao-Ming.jpg'\n",
      "977: Image successfully saved as 'Yo-Dawg-Heard-You.jpg'\n",
      "978: Image successfully saved as 'Yo-Mamas-So-Fat.jpg'\n",
      "979: Image successfully saved as 'You-Dont-Say.jpg'\n",
      "980: Image successfully saved as 'You-Dont-Want-No-Part-Of-This.jpg'\n",
      "981: Image successfully saved as 'You-Get-An-X-And-You-Get-An-X.jpg'\n",
      "982: Image successfully saved as 'You-Should-Feel-Bad-Zoidberg.jpg'\n",
      "983: Image successfully saved as 'You-The-Real-MVP.jpg'\n",
      "984: Image successfully saved as 'You-The-Real-MVP-2.jpg'\n",
      "985: Image successfully saved as 'You-Underestimate-My-Power.jpg'\n",
      "986: Image successfully saved as 'You-Were-The-Chosen-One-Star-Wars.jpg'\n",
      "987: Image successfully saved as 'Young-And-Reckless.jpg'\n",
      "988: Image successfully saved as 'Young-Cardi-B.jpg'\n",
      "989: Image successfully saved as 'Youre-Too-Slow-Sonic.jpg'\n",
      "990: Image successfully saved as 'Yuko-With-Gun.jpg'\n",
      "991: Image successfully saved as 'ZNMD.jpg'\n",
      "992: Image successfully saved as 'Zoidberg-Jesus.jpg'\n",
      "993: Image successfully saved as 'Zombie-Bad-Luck-Brian.jpg'\n",
      "994: Image successfully saved as 'Zombie-Overly-Attached-Girlfriend.jpg'\n",
      "995: Image successfully saved as 'Zorg.jpg'\n",
      "996: Image successfully saved as 'Zuckerberg.jpg'\n",
      "997: Image successfully saved as 'Zura-Janai-Katsura-Da.jpg'\n",
      "998: Image successfully saved as 'confession-kid.jpg'\n"
     ]
    }
   ],
   "source": [
    "for i in df.index[900:]:  \n",
    "    create_meme(i, f\"{df['Meme Name'].iloc[i]}\")"
   ]
  },
  {
   "cell_type": "code",
   "execution_count": 40,
   "metadata": {},
   "outputs": [
    {
     "name": "stdout",
     "output_type": "stream",
     "text": [
      "Missing meme images:\n",
      "Blank-Comic-Panel-2x2\n",
      "Not-a-Meme,-Just-Boobs\n",
      "Surprised-Frodo\n",
      "Blank-Comic-Panel-2x1\n",
      "Tuxedo-Winnie-The-Pooh\n",
      "Blank-Transparent-Square\n",
      "Blank-Comic-Panel-1x2\n",
      "He-Will-Never-Get-A-Girlfriend\n",
      "Are-you-a-Wizard\n",
      "Buff-Doge-vs-Cheems\n",
      "Laughing-Leo\n",
      "1950s-Middle-Finger\n",
      "Always-Has-Been\n",
      "Theyre-The-Same-Picture\n",
      "Socially-Awward-Couple\n",
      "Panik-Kalm-Panik\n"
     ]
    }
   ],
   "source": [
    "import os\n",
    "\n",
    "# Define the folder path where images are saved\n",
    "folder_path = r\"C:\\Users\\hp\\Desktop\\fyp\\mvp\\images-meme-template\"\n",
    "\n",
    "# Get a list of all filenames in the folder (without extension)\n",
    "saved_files = {os.path.splitext(f)[0] for f in os.listdir(folder_path) if os.path.isfile(os.path.join(folder_path, f))}\n",
    "\n",
    "# Get the expected meme names from the DataFrame\n",
    "expected_memes = set(df['Meme Name'])\n",
    "\n",
    "# Find memes that are missing from the folder\n",
    "missing_memes = expected_memes - saved_files\n",
    "\n",
    "# Print or handle missing meme names\n",
    "if missing_memes:\n",
    "    print(\"Missing meme images:\")\n",
    "    for meme in missing_memes:\n",
    "        print(meme)\n",
    "else:\n",
    "    print(\"All meme images are saved.\")"
   ]
  },
  {
   "cell_type": "code",
   "execution_count": 44,
   "metadata": {},
   "outputs": [],
   "source": [
    "missing_memes = list(missing_memes)"
   ]
  },
  {
   "cell_type": "code",
   "execution_count": 45,
   "metadata": {},
   "outputs": [
    {
     "data": {
      "text/plain": [
       "list"
      ]
     },
     "execution_count": 45,
     "metadata": {},
     "output_type": "execute_result"
    }
   ],
   "source": [
    "type(missing_memes)"
   ]
  },
  {
   "cell_type": "code",
   "execution_count": null,
   "metadata": {},
   "outputs": [],
   "source": [
    "count = 0\n",
    "for i in missing_memes:\n",
    "    count += 1\n",
    "    create_meme(count, i)"
   ]
  },
  {
   "cell_type": "code",
   "execution_count": 47,
   "metadata": {},
   "outputs": [],
   "source": [
    "df = pd.read_csv(r'C:\\Users\\hp\\Desktop\\fyp\\mvp\\memes_dataset.csv')"
   ]
  },
  {
   "cell_type": "code",
   "execution_count": 48,
   "metadata": {},
   "outputs": [],
   "source": [
    "# List of meme names to remove\n",
    "meme_blacklist = [\n",
    "    \"Blank-Comic-Panel-2x2\",\n",
    "    \"Not-a-Meme,-Just-Boobs\",\n",
    "    \"Blank-Comic-Panel-2x1\",\n",
    "    \"Blank-Transparent-Square\",\n",
    "    \"Blank-Comic-Panel-1x2\",\n",
    "    \"He-Will-Never-Get-A-Girlfriend\",\n",
    "    \"Are-you-a-Wizard\",\n",
    "    \"1950s-Middle-Finger\",\n",
    "    \"Theyre-The-Same-Picture\",\n",
    "    \"Socially-Awward-Couple\",\n",
    "    \"Panik-Kalm-Panik\"\n",
    "]\n",
    "\n",
    "df = df[~df[\"Meme Name\"].isin(meme_blacklist)].reset_index(drop=True)"
   ]
  },
  {
   "cell_type": "code",
   "execution_count": null,
   "metadata": {},
   "outputs": [
    {
     "name": "stdout",
     "output_type": "stream",
     "text": [
      "All meme images are saved.\n"
     ]
    }
   ],
   "source": [
    "folder_path = r\"C:\\Users\\hp\\Desktop\\fyp\\mvp\\images-meme-template\"\n",
    "saved_files = {os.path.splitext(f)[0] for f in os.listdir(folder_path) if os.path.isfile(os.path.join(folder_path, f))}\n",
    "expected_memes = set(df['Meme Name'])\n",
    "missing_memes = expected_memes - saved_files\n",
    "\n",
    "if missing_memes:\n",
    "    print(\"Missing meme images:\")\n",
    "    for meme in missing_memes:\n",
    "        print(meme)\n",
    "else:\n",
    "    print(\"All meme images are saved.\")"
   ]
  },
  {
   "cell_type": "code",
   "execution_count": 51,
   "metadata": {},
   "outputs": [
    {
     "data": {
      "text/plain": [
       "(988, 12)"
      ]
     },
     "execution_count": 51,
     "metadata": {},
     "output_type": "execute_result"
    }
   ],
   "source": [
    "df.shape"
   ]
  },
  {
   "cell_type": "code",
   "execution_count": 53,
   "metadata": {},
   "outputs": [],
   "source": [
    "df.to_csv(r'C:\\Users\\hp\\Desktop\\fyp\\mvp\\memes_dataset.csv', index=False)"
   ]
  }
 ],
 "metadata": {
  "kernelspec": {
   "display_name": "Python 3",
   "language": "python",
   "name": "python3"
  },
  "language_info": {
   "codemirror_mode": {
    "name": "ipython",
    "version": 3
   },
   "file_extension": ".py",
   "mimetype": "text/x-python",
   "name": "python",
   "nbconvert_exporter": "python",
   "pygments_lexer": "ipython3",
   "version": "3.11.0"
  }
 },
 "nbformat": 4,
 "nbformat_minor": 2
}
