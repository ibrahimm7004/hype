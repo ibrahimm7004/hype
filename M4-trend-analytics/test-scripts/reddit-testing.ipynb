{
 "cells": [
  {
   "cell_type": "code",
   "execution_count": 2,
   "id": "04972699",
   "metadata": {},
   "outputs": [
    {
     "name": "stderr",
     "output_type": "stream",
     "text": [
      "[nltk_data] Downloading package stopwords to\n",
      "[nltk_data]     C:\\Users\\hp\\AppData\\Roaming\\nltk_data...\n",
      "[nltk_data]   Unzipping corpora\\stopwords.zip.\n"
     ]
    },
    {
     "name": "stdout",
     "output_type": "stream",
     "text": [
      "Top keywords from Reddit r/popular (stopwords removed):\n",
      "trump: 3\n",
      "texas: 3\n",
      "help: 2\n",
      "interview: 2\n",
      "says: 2\n",
      "world: 2\n",
      "human: 2\n",
      "detainees: 2\n",
      "detention: 2\n",
      "center: 2\n",
      "spell: 2\n",
      "credit: 2\n",
      "fiancé: 1\n",
      "want: 1\n",
      "bills: 1\n",
      "essentially: 1\n",
      "admits: 1\n",
      "framing: 1\n",
      "clearly: 1\n",
      "altered: 1\n"
     ]
    }
   ],
   "source": [
    "import requests\n",
    "from collections import Counter\n",
    "import re\n",
    "\n",
    "# Optional: use NLTK for stopwords\n",
    "import nltk\n",
    "from nltk.corpus import stopwords\n",
    "\n",
    "# Download stopwords the first time you run it\n",
    "nltk.download('stopwords')\n",
    "stop_words = set(stopwords.words('english'))\n",
    "\n",
    "# Fetch data from Reddit\n",
    "url = \"https://www.reddit.com/r/popular.json\"\n",
    "headers = {\"User-Agent\": \"keyword-bot/0.1\"}\n",
    "res = requests.get(url, headers=headers).json()\n",
    "\n",
    "# Extract titles\n",
    "titles = [post[\"data\"][\"title\"] for post in res[\"data\"][\"children\"]]\n",
    "\n",
    "# Extract words (4+ letters), lowercase, remove stopwords\n",
    "all_words = re.findall(r'\\b\\w{4,}\\b', \" \".join(titles).lower())\n",
    "filtered_words = [word for word in all_words if word not in stop_words]\n",
    "\n",
    "# Count most common words\n",
    "common_words = Counter(filtered_words).most_common(20)\n",
    "\n",
    "# Display results\n",
    "print(\"Top keywords from Reddit r/popular (stopwords removed):\")\n",
    "for word, freq in common_words:\n",
    "    print(f\"{word}: {freq}\")"
   ]
  },
  {
   "cell_type": "code",
   "execution_count": null,
   "id": "9669f466",
   "metadata": {},
   "outputs": [],
   "source": []
  }
 ],
 "metadata": {
  "kernelspec": {
   "display_name": "Python 3",
   "language": "python",
   "name": "python3"
  },
  "language_info": {
   "codemirror_mode": {
    "name": "ipython",
    "version": 3
   },
   "file_extension": ".py",
   "mimetype": "text/x-python",
   "name": "python",
   "nbconvert_exporter": "python",
   "pygments_lexer": "ipython3",
   "version": "3.11.0"
  }
 },
 "nbformat": 4,
 "nbformat_minor": 5
}
